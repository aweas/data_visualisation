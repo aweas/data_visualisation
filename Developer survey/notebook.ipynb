{
  "cells": [
    {
      "metadata": {
        "_uuid": "3aa46cf7de8f88c8a0a3e82c7503bb3014fba2a7",
        "_cell_guid": "cdbb7d58-ced0-421f-8c39-074552cb2433"
      },
      "cell_type": "markdown",
      "source": "## Overview\n\n### Context\n\nWe at HackerRank (https://www.hackerrank.com) are passionate about ensuring that developers and companies can find each other and that the best matches are made.  Our platforms, for the community and recruiting, are built to create the best experience for all involved.\n\nWe have over the years built a very strong global community of developers. In order to provide more transparency for ourselves and the world on the state of developers, we conducted a survey of our developers late in 2016. We got an astounding 25K responses! The survey asked developers many questions around their skills, educational background, current role, and more. We provided a high-level report of our findings from this survey earlier this year (see acknowledgements below).\n\nWe have since focused more on understanding trends about women pursuing careers as developers. On March 1 we released our high-level report on our findings. This report is based on survey responses from professional developers (14K developers, which includes hiring managers), and it is available here: [Women In Tech 2018][1]\n\nThe data set we are releasing here is the full dataset of 25K responses from our developer survey, which includes both students and professionals. The  [Women In Tech 2018][1] report uses only the 14K responses from professionals.\n\n### Content\n\nThe data consists of five files:\n\n 1. `HackerRank-Developer-Survey-2018-Codebook.csv`: a CSV file with survey schema. This schema includes the questions that correspond to each column name in `HackerRank-Developer-Survey-2018-Numeric.csv` and `HackerRank-Developer-Survey-2018-Values.csv`.   It also provides extra notes on questions if they were conditionally shown, or what the correct answer was to a coding question.\n 2. `HackerRank-Developer-Survey-2018-Numeric-Mapping.csv`: This file provides the mapping from the numeric values in `HackerRank-Developer-Survey-2018-Numeric.csv` and what their textual representation in the survey was.  Each row represents one of the possible answers to a specific question, with a mapping of the numeric answer in the data file to the textual label in the survey.\n 3. `Country-Code-Mapping.csv`: a CSV file that provides the mapping of the numeric country code in our raw data in `HackerRank-Developer-Survey-2018-Numeric.csv` to the associated country.\n 4. `HackerRank-Developer-Survey-2018-Numeric.csv`: a CSV file with the raw survey responses. Each row is one respondent, including an anonymous respondent id, the timestamp of when the survey was started and ended, and the numeric responses to each question. This is the data file that we used for our analysis.\n 5. `HackerRank-Developer-Survey-2018-Values.csv`: a CSV file with the text version of the survey responses. Each row is one respondent, including an anonymous respondent id, the timestamp of when the survey was started and ended, and the textual response to each question. This file was derived from `HackerRank-Developer-Survey-2018-Numeric.csv` using the mapping files that are included in this data set. We provide it for ease of use for those who prefer to work directly with the text values.\n\n\n### Methodology\n\n - A total of 25,090 professional and student developers completed our 10-minute online survey. \n - The survey was live from October 16 through November 1, 2017.\n - The survey was hosted by SurveyMonkey and we recruited respondents via email from our community of over 3.4 million members and through social media sites.\n - We removed responses that were incomplete as well as obvious spam submissions.\n - Not every question was shown to every respondent, as some questions were specifically for those involved in hiring. The codebook (`HackerRank-Developer-Survey-2018-Codebook.csv`) highlights under what conditions some questions were shown.\n - The [Women In Tech 2018][1] report is based only on the 14K responses from professionals\n    - Respondents who identified as students (`q8Student=1`; N=10351) were excluded from this report.\n    - Respondents who identify as “non-binary” (`q3Gender=3`; N=76) were excluded from the male-female comparisons.\n\n### Acknowledgements\n\nThe data set we are releasing is based on the [Developer Skills][2] survey and report we released earlier this year. We did not release the data set then, so here it is!\n\n  [1]: https://research.hackerrank.com/women-in-tech/2018/\n  [2]: https://research.hackerrank.com/developer-skills/2018/\n  \n#### I am going to focus mainly on technical aspects of data visualisation - what to do to see the plots we want to see, less on interpreting the results - once you know how, you can do it yourselves. Treat this like a tutorial/introduction"
    },
    {
      "metadata": {
        "_uuid": "809f1c64f6ea67b47e636933fdd1cae3a7b32942",
        "_cell_guid": "802340e3-1181-45e0-a89a-d03fdda36e16"
      },
      "cell_type": "markdown",
      "source": "### So, hello world! I hope you enjoy my first kernel."
    },
    {
      "metadata": {
        "collapsed": true,
        "_uuid": "af47a0ac88ea840edbe1eebc36ca8a16f6f55483",
        "_cell_guid": "b7c79687-b040-46ea-8f4b-308f963269fa",
        "trusted": false
      },
      "cell_type": "code",
      "source": "import pandas as pd\nimport numpy as np\nimport matplotlib.pyplot as plt\nimport pandas.tools.plotting\nimport seaborn as sns\nimport matplotlib\nimport squarify\n%matplotlib inline\n\nplt.style.use('seaborn')",
      "execution_count": null,
      "outputs": []
    },
    {
      "metadata": {
        "_uuid": "3152aafe020466f99dc0a7fd7cf7eb3ebd895923",
        "_cell_guid": "81407743-9ab1-4874-bea7-63b53cad3930"
      },
      "cell_type": "markdown",
      "source": "After importing the libraries we need to:   \n1. Read the data\n2. Get an overview"
    },
    {
      "metadata": {
        "_uuid": "22172c0061d9e6006af16a02c159e860c3c3ee5c",
        "_cell_guid": "602bf4a2-3799-443a-b78a-1f7481876226",
        "trusted": false,
        "collapsed": true
      },
      "cell_type": "code",
      "source": "codebook = pd.read_csv('../input/HackerRank-Developer-Survey-2018-Codebook.csv')\nnumeric_mapping = pd.read_csv('../input/HackerRank-Developer-Survey-2018-Numeric-Mapping.csv')\nnumeric = pd.read_csv('../input/HackerRank-Developer-Survey-2018-Numeric.csv', na_values=['#NULL!', 'nan'])\nvalues = pd.read_csv('../input/HackerRank-Developer-Survey-2018-Values.csv', na_values=['#NULL!', 'nan'])\n\ncodebook.head()",
      "execution_count": null,
      "outputs": []
    },
    {
      "metadata": {
        "_uuid": "a9447f28559af128aa3c530c7dc17259c90d0788",
        "_cell_guid": "ce9cd0ba-a303-4408-8f25-ea8160a2a67c",
        "trusted": false,
        "collapsed": true
      },
      "cell_type": "code",
      "source": "numeric_mapping.head()",
      "execution_count": null,
      "outputs": []
    },
    {
      "metadata": {
        "_uuid": "2330fc545064e5671cfcc1458abec2bd0c3fe8f6",
        "_cell_guid": "d05a3115-0fda-4ebe-9b0c-02e36d0df106",
        "trusted": false,
        "collapsed": true
      },
      "cell_type": "code",
      "source": "numeric.head()",
      "execution_count": null,
      "outputs": []
    },
    {
      "metadata": {
        "_uuid": "06d2ae3307a4bb94638db75274f9b6442e5ac6ab",
        "_cell_guid": "02b1d3ec-33d8-4e82-bf3f-026cd27ef772",
        "trusted": false,
        "collapsed": true
      },
      "cell_type": "code",
      "source": "values.head()",
      "execution_count": null,
      "outputs": []
    },
    {
      "metadata": {
        "_uuid": "c849ce4b3517358d8e1ad7f5e844ee3ac00adaee",
        "_cell_guid": "acd56f18-d9cc-4d7a-bc1c-d799537709ea"
      },
      "cell_type": "markdown",
      "source": "OK, quite untidy. We need to do something about it.   \nFirst of all, we will change column names and indices to something friendlier. Then we will get rid of Nan's"
    },
    {
      "metadata": {
        "collapsed": true,
        "_uuid": "be605b07d77842148c60ff8f80de50a446df6402",
        "_cell_guid": "6296486e-89f7-4727-80b1-e1b21973e315",
        "trusted": false
      },
      "cell_type": "code",
      "source": "codebook.columns = ['fieldname', 'question', 'notes']\ncodebook.set_index('fieldname', inplace=True);\nnumeric_mapping.set_index('Data Field', inplace=True)\n\nnumeric.q1AgeBeginCoding = numeric.q1AgeBeginCoding.astype(float)\nnumeric.q2Age = numeric.q2Age.astype(float)\nnumeric = numeric.fillna(-1)\n\nvalues = values.fillna('Not provided')",
      "execution_count": null,
      "outputs": []
    },
    {
      "metadata": {
        "_uuid": "db310fa97e7dba71d3db52e9e7061e1142a529d4",
        "_cell_guid": "c4d86473-b346-46c2-99f0-b5e07eb594a4"
      },
      "cell_type": "markdown",
      "source": "We also need to see what data do we even have available"
    },
    {
      "metadata": {
        "_uuid": "8ee450f8955ea852d492a44179c1206454f35a41",
        "_cell_guid": "40734eea-8547-4274-9017-ec428736f7bd",
        "scrolled": true,
        "trusted": false,
        "collapsed": true
      },
      "cell_type": "code",
      "source": "print(values.columns.ravel())",
      "execution_count": null,
      "outputs": []
    },
    {
      "metadata": {
        "_uuid": "488254f921036238f9e7d706105346ed0cdd2911",
        "_cell_guid": "a79eaeb5-c142-4369-b88e-dfd137f28203"
      },
      "cell_type": "markdown",
      "source": "Now that we prepared our data we can start with visualisations. We will make a heatmaping function for an easy start of a few interesting plots"
    },
    {
      "metadata": {
        "collapsed": true,
        "_uuid": "92c8127701a4c89304de7ff6b0f44df5b8090785",
        "_cell_guid": "0638aea8-4b33-48db-96bb-d5ea3e4d4f9c",
        "trusted": false
      },
      "cell_type": "code",
      "source": "def draw_heatmap(column1, column2, title=None, annot=True, ax=None, size=(10, 10), data=values):\n    cross = pd.crosstab(data[column1], data[column2])\n    \n    if ax is None:\n        f, ax = plt.subplots(figsize=size)\n        \n    sns.heatmap(cross, cmap='Reds', annot=annot, ax=ax)\n    ax.set_ylabel(codebook.loc[column1]['question'])\n    ax.set_xlabel(codebook.loc[column2]['question'])\n    \n    if title is not None:\n        ax.set_title(title)",
      "execution_count": null,
      "outputs": []
    },
    {
      "metadata": {
        "_uuid": "e9e159f811d2e5a688eb4c532568b0fe12026e5d",
        "_cell_guid": "ad5488a2-fd07-4f47-a227-561684cadb78"
      },
      "cell_type": "markdown",
      "source": "Let's see the most basic info about surveyed - their age by gender"
    },
    {
      "metadata": {
        "collapsed": true,
        "_uuid": "115f1944be08d1593a99d8bc0dbf624dfd5a899e",
        "_cell_guid": "c3d5bc94-8976-4bcb-99af-3b239c47507b",
        "trusted": false
      },
      "cell_type": "code",
      "source": "# We need to shift NaN to 0, because data starts from value 1\nnumeric.loc[numeric['q1AgeBeginCoding'] == -1, 'q1AgeBeginCoding'] = 0\nnumeric.loc[numeric['q2Age'] == -1, 'q2Age'] = 0\n\n# And to trim text so that it fits plots\nnumeric_mapping.loc['q2Age'] = [[i+1, j] for i, j in zip(range(9), ['Under 12', '12 - 18', '18 - 24', '25 - 34', '35 - 44', '45 - 54', '55 - 64', '65 - 74', '75+'])]\nnumeric_mapping.loc['q1AgeBeginCoding'] = numeric_mapping.loc['q1AgeBeginCoding'].applymap(lambda x: str(x).replace('years old', ''))",
      "execution_count": null,
      "outputs": []
    },
    {
      "metadata": {
        "_uuid": "cf5c5cd456c9c8b3d2f90173b437a9784368dbde",
        "_cell_guid": "19d8b1f6-9c23-4fd3-a17f-39a0663003d5",
        "scrolled": false,
        "trusted": false,
        "collapsed": true
      },
      "cell_type": "code",
      "source": "# I will be frequently using semicolons to suppress matplotlib output\nfig, ax = plt.subplots(nrows=2, ncols=2, figsize=(20,15))\n\nsns.set(font_scale=1)\ncount = sns.countplot(x='q3Gender', data=numeric, ax=ax[0][0])\ncount.set_xticklabels(np.append(['Not provided'], numeric_mapping.loc['q3Gender'].values[:, 1]));\ncount.set_xlabel('Gender')\n\nbar = sns.barplot(x='q2Age', y='q1AgeBeginCoding', hue='q3Gender', data=numeric, ax=ax[0][1])\nax[0][1].yaxis.set_ticks([i for i in range(len(numeric_mapping.loc['q1AgeBeginCoding'].values[:, 1]))])\nbar.set_yticklabels(np.append(['Not provided'], numeric_mapping.loc['q1AgeBeginCoding'].values[:, 1]))\nbar.set_xticklabels(np.append(['Not provided'], numeric_mapping.loc['q2Age'].values[:, 1]));\nbar.set_xlabel(codebook.loc['q2Age']['question'])\nbar.set_ylabel(codebook.loc['q1AgeBeginCoding']['question'])\n\nbar.legend(loc=2)\nfor i, j in zip(bar.get_legend().texts, np.append(['Not provided'], numeric_mapping.loc['q3Gender'].values[:, 1])):\n    i.set_text(j)\nbar.get_legend().set_title('')\n\n# fig.tight_layout()\nsns.set()\ndraw_heatmap('q1AgeBeginCoding', 'q2Age', ax=ax[1][0], annot=False)\ndraw_heatmap('q2Age', 'q3Gender', ax=ax[1][1], annot=True, size=(5, 5))\nfig.tight_layout()\nplt.savefig('basic_info.jpg')",
      "execution_count": null,
      "outputs": []
    },
    {
      "metadata": {
        "_uuid": "2a33bd27719d914db903b1c491d57a6cae61b81d",
        "_cell_guid": "32189754-3f64-462a-b064-3670b3715219"
      },
      "cell_type": "markdown",
      "source": "We are ready to make our first observations!   \nThe most obvious one is how much more males than females and non-binary are taking part in HackerRank. Also, it appears there were some funny guys who claim to have been coding longer then they are alive.   \nNext ones however are a little bit trickier: notice the heatmap. The only categories that we have represenative(-ish) data for (and therefore the only ones we can be using) are 12-44 year olds that learned coding between age of 11 and 30. Having that in mind, let's take a closer look at the age barplot"
    },
    {
      "metadata": {
        "_uuid": "132088ccae098a30d601a196ca1fbd068e513422",
        "_cell_guid": "c64c18c6-c9d9-4f67-b182-1d0e49b5ef94",
        "trusted": false,
        "collapsed": true
      },
      "cell_type": "code",
      "source": "trimmed_numeric = numeric.loc[(numeric['q2Age']<6) & (numeric['q2Age']>1)]\n\nsns.set()\nf, ax = plt.subplots(nrows=1, ncols=2, figsize=(16, 5));\n\nsns.factorplot(x='q2Age', y='q1AgeBeginCoding', data=trimmed_numeric, ax=ax[0], color='y')\nsns.barplot(x='q2Age', y='q1AgeBeginCoding', hue='q3Gender', data=trimmed_numeric, ax=ax[0], alpha=1);\nax[0].set_yticks(range(6))\nax[0].set_yticklabels(np.append(['Not provided'], numeric_mapping.loc['q1AgeBeginCoding'].values[:4, 1]))\nax[0].set_ylabel(codebook.loc['q1AgeBeginCoding']['question'])\nax[0].set_xlabel(codebook.loc['q2Age']['question'])\nax[0].set_xticklabels(numeric_mapping.loc['q2Age'].values[1:, 1])\nax[0].get_legend().set_title('')\n# This could have been done better, but I was unable to figure this out\nax[0].set_title('Average age for all genders (bars) and collective (line)')\n\nsns.countplot(trimmed_numeric['q2Age'], ax=ax[1])\nax[1].set_title('Age distribution')\nax[1].set_xlabel('')\nax[1].set_xlabel(codebook.loc['q2Age']['question'])\nax[1].set_xticklabels(numeric_mapping.loc['q2Age'].values[1:, 1])\n\nfor i, j in zip(ax[0].get_legend().texts, np.append(['Not provided'], numeric_mapping.loc['q3Gender'].values[:, 1])):\n    i.set_text(j)\n\n# A small hack to get around seaborn generating unneccessary plots\nplt.clf();\n\nf = plt.figure(figsize=(8,5));\nfactAx = plt.gca();\nsns.factorplot(x='q2Age', y='q1AgeBeginCoding', hue='q3Gender', data=trimmed_numeric, legend=False, kind='violin', ax=factAx);\nfactAx.yaxis.set_ticks([i for i in range(len(numeric_mapping.loc['q1AgeBeginCoding'].values[:, 1]))])\nfactAx.set_xlabel(codebook.loc['q2Age']['question'])\nfactAx.set_xticklabels(numeric_mapping.loc['q2Age'].values[1:, 1])\nfactAx.set_yticklabels(np.append(['Not provided'], numeric_mapping.loc['q1AgeBeginCoding'].values[:, 1]))\nfactAx.set_ylabel(codebook.loc['q1AgeBeginCoding']['question'])\n# ax.get_legend().remove()\n\nfor i, j in zip(factAx.get_legend().texts,np.append(['Not provided'], numeric_mapping.loc['q3Gender'].values[:, 1])):\n    i.set_text(j)\nfactAx.get_legend().set_title('')\n\nf.tight_layout();\nplt.clf();\nplt.savefig('age.jpg')",
      "execution_count": null,
      "outputs": []
    },
    {
      "metadata": {
        "_uuid": "d8e508b5d51ce00c8c2868779ffa044f9bda5a5e",
        "_cell_guid": "f13d64d4-13fe-48e6-9402-ae1daa23a89d"
      },
      "cell_type": "markdown",
      "source": "OK, we are ready to say something more. Unfortunately, age intervals overlap each other - even though we have very clear tendencies, we are unable to say much. Vast majority of 18-24 year olds (and all users altogether) started coding between 16-20. What does it mean? That this group holds both people who have started coding last week and those who have been doing it for 8 years. Same goes for other groups, so we will have to discard those results.   \nHowever, a fact worth noticing is that women of HackerRank tend to start coding a little bit later than their male colleagues, but this difference very little in our most popular (18-24) group. \n\nLet's move on to something more interesting - experience of users"
    },
    {
      "metadata": {
        "collapsed": true,
        "_uuid": "c80ed9845b356a186201c6d139c8391da04b6827",
        "_cell_guid": "71f76ba5-c298-4c30-948d-fae4cc8be0e6",
        "scrolled": true,
        "trusted": false
      },
      "cell_type": "code",
      "source": "# Information about experience is stored in 5 columns (kind of like one hot encoding), so we need to reverse it\n# We are going to follow three-table pattern in order to be able to use seaborn (it needs numeric data) \ncolumns = ['q6LearnCodeDontKnowHowToYet', 'q6LearnCodeOther',\n           'q6LearnCodeAccelTrain', 'q6LearnCodeSelfTaught', 'q6LearnCodeUni']\n\nres = np.where(values[columns[0]]!='Not provided', 0, -1)\nres_val = np.where(values[columns[0]]!='Not provided', \"Didn't\", 'Not provided')\nfor i, j in enumerate(columns[1:]):\n    res[values[j]!='Not provided'] = i\n    res_val[values[j]!='Not provided'] = j.split('LearnCode')[-1]\n    \nnumeric['q6LearnCode'] = res\nvalues['q6LearnCode'] = res_val\n\nnumeric_mapping = numeric_mapping.append(pd.DataFrame(\n    {'Data Field': 'q6LearnCode',\n     'Value': [i-1 for i in range(6)], \n     'Label': ['Not provided', \"Didn't\", 'Other way', 'Self taught', 'Accel Train', 'University']}\n    ).set_index('Data Field')) \n\ncodebook.loc['q6LearnCode'] = 'How did you learn how to code?'",
      "execution_count": null,
      "outputs": []
    },
    {
      "metadata": {
        "_uuid": "8b5f4c74f76bb1b9fb129e424f8e8fe1a5c75875",
        "_cell_guid": "70c284e3-6745-4116-aa0a-cf9ff51a0ba2",
        "trusted": false,
        "collapsed": true
      },
      "cell_type": "code",
      "source": "# Clearing fonts settings\nsns.set()\nplt.figure(figsize=(16,5))\nax = plt.subplot(121)\ndraw_heatmap('q2Age', 'q6LearnCode', title='Learning means by age', annot=False, ax=ax)\nax = plt.subplot(122)\ndraw_heatmap('q1AgeBeginCoding', 'q6LearnCode', title='Learning means by age of starting coding', annot=True, ax=ax)\nplt.tight_layout()\nplt.savefig('learning_means.jpg')",
      "execution_count": null,
      "outputs": []
    },
    {
      "metadata": {
        "_uuid": "8a262e1c5721fcbeeec42d5b103f691aab6ce99a",
        "_cell_guid": "d3338d89-ea87-4181-8157-d6479937a2d3"
      },
      "cell_type": "markdown",
      "source": "The results are not surprising at all - regardless of age, the most popular means of learning how to code is firstly university, secondly self teaching. Let's move on to language popularity"
    },
    {
      "metadata": {
        "collapsed": true,
        "_uuid": "8e70066800183a1bc59db9c51537d63044954206",
        "_cell_guid": "a39465d0-e567-406f-a14f-3ae4c420c32b",
        "trusted": false
      },
      "cell_type": "code",
      "source": "# First we will have to do a little preprocessing of columns\n\ncolumns = ['q25LangC', 'q25LangCPlusPlus', 'q25LangJava', 'q25LangPython',\n         'q25LangRuby', 'q25LangJavascript', 'q25LangCSharp', 'q25LangGo', 'q25Scala',\n         'q25LangPerl', 'q25LangSwift', 'q25LangPascal', 'q25LangClojure', 'q25LangPHP',\n         'q25LangHaskell', 'q25LangLua', 'q25LangR', 'q25LangRust', 'q25LangTypescript',\n         'q25LangKotlin', 'q25LangJulia', 'q25LangErlang', 'q25LangOcaml']\n\nres = np.where(values[columns[0]]!='Not provided', 0, 1)\n\nfor i in columns:\n    numeric[i+'WillLearn'] = np.where(values[i]=='Will Learn', 1, 0)\n    numeric[i+'Know'] = np.where(values[i]=='Know', 1, 0)",
      "execution_count": null,
      "outputs": []
    },
    {
      "metadata": {
        "_uuid": "72efdfa1d4e6208c3b01674cbdda7235b9838eb3",
        "_kg_hide-input": false,
        "_cell_guid": "4599c74f-734c-470a-9fea-e0e8a569d55c",
        "trusted": false,
        "collapsed": true
      },
      "cell_type": "code",
      "source": "plt.figure(figsize=(8, 5))\n  \nfor i, j in enumerate(columns):\n    plt.barh(i, np.sum(numeric[j+'Know']) + np.sum(numeric[j+'WillLearn']), color='orange')\n\nfor i, j in enumerate(columns):\n    plt.barh(i, np.sum(numeric[j+'Know']), color='#005aff')\n\nplt.gca().set_yticks(range(len(columns)));\nplt.gca().set_yticklabels([j.split('Lang')[-1] for j in columns]);\nplt.title('Languages popularity on HackerRank');\n\ncustom_lines = [matplotlib.patches.Patch(color='#005aff', lw=1),\n                matplotlib.patches.Patch(color='orange', lw=1)]\n    \nplt.legend(custom_lines, ['Know language', 'Want to learn language']);\nplt.gca().get_legend().set_title('Number of developers that')\n\nplt.tight_layout()\n\nplt.savefig('language_popularity.jpg')",
      "execution_count": null,
      "outputs": []
    },
    {
      "metadata": {
        "_uuid": "fd8e8a2007feaaf62d8845354816c2347f6e163e",
        "_cell_guid": "66ed4291-c588-4f63-8221-6a2012b3eafd"
      },
      "cell_type": "markdown",
      "source": "Looks like python is the most interesting language for HackerRank developers, closely followed by C. The most niche ones are Julia and Clojure"
    },
    {
      "metadata": {
        "_uuid": "8f61562f848498e70fcaa1752c3c418a692cd989",
        "_cell_guid": "d11d457b-fac6-4fc0-b4ba-49d2c9a82486",
        "trusted": false,
        "collapsed": true
      },
      "cell_type": "code",
      "source": "plt.figure(figsize=(16, 10))\n\nres_will_learn = np.array(np.sum(numeric[numeric['q2Age']==0][[j+'WillLearn' for j in columns]]).values)/len(numeric[numeric['q2Age']==0])\nres_know = np.array(np.sum(numeric[numeric['q2Age']==0][[j+'Know' for j in columns]]).values)/len(numeric[numeric['q2Age']==0])\nres_everything = np.array((np.sum(numeric[numeric['q2Age']==0][[j+'Know' for j in columns]]).values \\\n               + np.sum(numeric[numeric['q2Age']==0][[j+'WillLearn' for j in columns]]).values) \\\n               / len(numeric[numeric['q2Age']==0]))\nfor i in list(set(numeric['q2Age']))[1:]:\n    res_will_learn = np.vstack((res_will_learn, \n                                np.sum(numeric[numeric['q2Age']==i][[j+'WillLearn' for j in columns]]).values \\\n                                /len(numeric[numeric['q2Age']==i])))\n    res_know = np.vstack((res_know, \n                          np.sum(numeric[numeric['q2Age']==i][[j+'Know' for j in columns]]).values \\\n                          /len(numeric[numeric['q2Age']==i])))\n    res_everything = np.vstack((res_everything, \n                          (np.sum(numeric[numeric['q2Age']==i][[j+'Know' for j in columns]]).values \\\n                        + np.sum(numeric[numeric['q2Age']==i][[j+'WillLearn' for j in columns]]).values) \\\n                        / len(numeric[numeric['q2Age']==i])))\n    \nax1 = plt.subplot(221)\nsns.heatmap(res_will_learn, ax=ax1);\nax1.set_yticklabels(np.append(['Not provided'], numeric_mapping.loc['q2Age'].values[:, 0]), rotation='horizontal')\nax1.set_xticklabels([j.split('Lang')[-1] for j in columns], rotation='vertical');\nax1.set_title('Percentage of developers that want to learn languages in each age category ');\n\nax2 = plt.subplot(222)\nsns.heatmap(res_know, ax=ax2);\nax2.set_yticklabels(np.append(['Not provided'], numeric_mapping.loc['q2Age'].values[:, 0]), rotation='horizontal')\nax2.set_xticklabels([j.split('Lang')[-1] for j in columns], rotation='vertical');\nax2.set_title('Percentage of known languages in each age category ');\n\nax3 = plt.subplot(223)\nsns.heatmap(res_everything, ax=ax3);\nax3.set_yticklabels(np.append(['Not provided'], numeric_mapping.loc['q2Age'].values[:, 0]), rotation='horizontal')\nax3.set_xticklabels([j.split('Lang')[-1] for j in columns], rotation='vertical');\nax3.set_title('Percentage of developers that know or want to learn language')\nplt.tight_layout()\nplt.savefig('languages_heatmap.jpg')",
      "execution_count": null,
      "outputs": []
    },
    {
      "metadata": {
        "_uuid": "0078dbf252878e46232bff2edf215c5148e8059f",
        "_cell_guid": "ad632b17-1343-4d0b-b6f9-6fb275d3dc57"
      },
      "cell_type": "markdown",
      "source": "Looks like only developers aged 35+ know Perl and Pascal, and hardly anyone older than 12 y.o. can write in Typescript. However, this is a language that has the biggest interest rate in 75+ category. The results are quite uniform beside that, so I will leave it here."
    },
    {
      "metadata": {
        "_uuid": "940e3603e5bce2068505f5ed238e063a75d57401",
        "_cell_guid": "f1a49b9a-fee1-4483-b408-247803fc3005",
        "trusted": false,
        "collapsed": true
      },
      "cell_type": "code",
      "source": "columns = [i for i in values.columns.ravel() if 'q28' in i]\nlangs_known = [i for i in values.columns.ravel() if 'q25' in i]\ncolumns = columns[:-1]\nlangs_known = langs_known[:-1]\n\nplt.figure(figsize=(16,5))\n\nplt.subplot(121)\nlove_height = []\nhate_height = []\n\nfor i, j in enumerate(zip(columns, langs_known)):\n    love = len(numeric[(numeric[j[1]]>=1) & (values[j[0]]=='Love')])/(len(numeric[numeric[j[1]]>=1]))\n    plt.bar(i, love, color='#4c72b0')\n    plt.text(i, love-0.05, '%i' % int(love*100), horizontalalignment='center', size=10, color='white')\n    \n    hate = len(numeric[(numeric[j[1]]>=1) & (values[j[0]]=='Hate')])/(len(numeric[numeric[j[1]]>=1]))\n    plt.bar(i, -hate, color='#55a868')\n    plt.text(i, -hate+0.01, '%i' % int(hate*100), horizontalalignment='center', size=10, color='white')\n    \n    love_height.append(love)\n    hate_height.append(hate)\n    \n    \ncustom_lines = [matplotlib.patches.Patch(color='#4c72b0', lw=1),\n                matplotlib.patches.Patch(color='#55a868', lw=1),\n                matplotlib.lines.Line2D([0], [0], color='orange')]\n    \nplt.legend(custom_lines, ['Love', 'Hate', 'Overall reputation'])\nplt.plot([(i-j)/2 for i, j in zip(love_height, hate_height)], color='orange')\n\nplt.gca().set_xticks(range(len(columns)))\nplt.gca().set_xticklabels([j.split('Love')[-1] for j in columns], rotation='vertical');\nplt.gca().set_title('Reputation of languages that developers know or will learn');\nplt.gca().set_yticklabels(['%i%%' % abs(i*100) for i in plt.yticks()[0]]);\nplt.ylabel('Percentage of users');\n\nplt.subplot(122)\nlove_height = []\nhate_height = []\n\nfor i, j in enumerate(zip(columns, langs_known)):\n    love = len(numeric[(numeric[j[1]]==0) & (values[j[0]]=='Love')])/(len(numeric[numeric[j[1]]>=1]))\n    plt.bar(i, love, color='#4c72b0')\n    plt.text(i, love-0.02, '%i' % int(love*100), horizontalalignment='center', size=10, color='white')\n    \n    hate = len(numeric[(numeric[j[1]]==0) & (values[j[0]]=='Hate')])/(len(numeric[numeric[j[1]]>=1]))\n    plt.bar(i, -hate, color='#55a868')\n    plt.text(i, -hate+0.01, '%i' % int(hate*100), horizontalalignment='center', size=10, color='white')\n    \n    love_height.append(love)\n    hate_height.append(hate)\n    \n    \nplt.plot([(i-j)/2 for i, j in zip(love_height, hate_height)], color='orange')\n\nplt.gca().set_xticks(range(len(columns)))\nplt.gca().set_xticklabels([j.split('Love')[-1] for j in columns], rotation='vertical');\nplt.gca().set_title('Reputation of languages that developers did not nor will not learn');\nplt.gca().set_yticklabels(['%i%%' % abs(i*100) for i in plt.yticks()[0]]);\nplt.ylabel('Percentage of users');\nplt.savefig('languages_reputation.jpg')",
      "execution_count": null,
      "outputs": []
    },
    {
      "metadata": {
        "_uuid": "03ba9d2b9bee5f3ced2c3af13c99b797018b8f9f",
        "_cell_guid": "67772803-ccf2-4cd7-b183-84f4b4af452c"
      },
      "cell_type": "markdown",
      "source": "Apparently quite a few developer regret their language choice, but Python users are definitely not part of them - they both love their language the most and hate it the least, putting second-placed C++ way behind. The most hated one is OCaml.  \nAs for the second plot, bad reviews are quite understandable - if you are not willing to learn a language there is a high chance you don't like it"
    },
    {
      "metadata": {
        "_uuid": "d74be49171338cf97177152a3576a98190dac9b4",
        "_cell_guid": "8829f3d2-baa7-47da-959b-d111d5f14b5d",
        "trusted": false,
        "collapsed": true
      },
      "cell_type": "code",
      "source": "plt.figure(figsize=(16,5))\n\nplt.subplot(121)\nlove_height = []\nhate_height = []\n\nfor i, j in enumerate(zip(columns, langs_known)):\n    love = len(numeric[(values[j[1]]=='Know') & (values[j[0]]=='Love')])/(len(numeric[values[j[1]]=='Know']))\n    plt.bar(i, love, color='#4c72b0')\n    plt.text(i, love-0.05, '%i' % int(love*100), horizontalalignment='center', size=10, color='white')\n    \n    hate = len(numeric[(values[j[1]]=='Know') & (values[j[0]]=='Hate')])/(len(numeric[values[j[1]]=='Know']))\n    plt.bar(i, -hate, color='#55a868')\n    plt.text(i, -hate+0.01, '%i' % int(hate*100), horizontalalignment='center', size=10, color='white')\n    \n    love_height.append(love)\n    hate_height.append(hate)\n    \n    \ncustom_lines = [matplotlib.patches.Patch(color='#4c72b0', lw=1),\n                matplotlib.patches.Patch(color='#55a868', lw=1),\n                matplotlib.lines.Line2D([0], [0], color='orange')]\n    \nplt.legend(custom_lines, ['Love', 'Hate', 'Overall reputation'])\nplt.plot([(i-j)/2 for i, j in zip(love_height, hate_height)], color='orange')\n\nplt.gca().set_xticks(range(len(columns)))\nplt.gca().set_xticklabels([j.split('Love')[-1] for j in columns], rotation='vertical');\nplt.gca().set_title('Reputation of languages that developers already know');\nplt.gca().set_yticklabels(['%i%%' % abs(i*100) for i in plt.yticks()[0]]);\nplt.ylabel('Percentage of users');\n\nplt.subplot(122)\nlove_height = []\nhate_height = []\n\nfor i, j in enumerate(zip(columns, langs_known)):\n    love = len(numeric[(values[j[1]]=='Will Learn') & (values[j[0]]=='Love')])/(len(numeric[values[j[1]]=='Will Learn']))\n    plt.bar(i, love, color='#4c72b0')\n    plt.text(i, love-0.05, '%i' % int(love*100), horizontalalignment='center', size=10, color='white')\n    \n    hate = len(numeric[(values[j[1]]=='Will Learn') & (values[j[0]]=='Hate')])/(len(numeric[values[j[1]]=='Will Learn']))\n    plt.bar(i, -hate, color='#55a868')\n    plt.text(i, -hate+0.01, '%i' % int(hate*100), horizontalalignment='center', size=10, color='white')\n    \n    love_height.append(love)\n    hate_height.append(hate)\n    \nplt.plot([(i-j)/2 for i, j in zip(love_height, hate_height)], color='orange')\n\nplt.gca().set_xticks(range(len(columns)))\nplt.gca().set_xticklabels([j.split('Love')[-1] for j in columns], rotation='vertical');\nplt.gca().set_title('Reputation of languages that developers are going to learn');\nplt.gca().set_yticklabels(['%i%%' % abs(i*100) for i in plt.yticks()[0]]);\nplt.ylabel('Percentage of users');\nplt.savefig('languages_opinion.jpg')",
      "execution_count": null,
      "outputs": []
    },
    {
      "metadata": {
        "_uuid": "75ecc349c5ca6431a42f0ce3d6ade8c976915a51",
        "_cell_guid": "cd89ee39-604d-49cf-9d39-eb2e77808def"
      },
      "cell_type": "markdown",
      "source": "What i understand from this plot is, that if someone did learn the language they also learned how to like it. I have a question for the second group though: if you hate the language, why do you even want to learn it?"
    },
    {
      "metadata": {
        "_uuid": "eb9aea3851a81e1b62021dd43e9e671da62897d5",
        "_cell_guid": "bc95e9c6-4d1f-4526-9dc5-d66f1e898760",
        "trusted": false,
        "collapsed": true
      },
      "cell_type": "code",
      "source": "plt.figure(figsize=(20, 10))\ncolumns = [i for i in values.columns.ravel() if 'q28' in i]\nlangs_prof = [i for i in values.columns.ravel() if 'q22' in i]\nlangs_prof = langs_prof[1:-1]\ncolumns = columns[:len(langs_prof)]\n\nlangs_sum = len(numeric[values['q16HiringManager']=='Yes'])\nlangs_name = ['%s: %.1f%%' % (i.split('Prof')[-1], (len(numeric[numeric[i]==1])/langs_sum)*100) for i in langs_prof]\nlangs_count = [len(numeric[numeric[i]==1]) for i in langs_prof]\n\nsquarify.plot(sizes=langs_count, label=langs_name, alpha=0.7, color=list(np.random.rand(17,3)))\nplt.axis('off')\nplt.title(codebook.loc[langs_prof[0]][0]);\nplt.savefig('languages_desired.jpg')",
      "execution_count": null,
      "outputs": []
    },
    {
      "metadata": {
        "_uuid": "5e6ef783783d660f57e1f8c18ea0062ed367c328",
        "_cell_guid": "5ea81366-b79e-42f9-bc8e-d3f8dd97f681"
      },
      "cell_type": "markdown",
      "source": "So, if you want to have big chances of finding a job, you should definitely learn Javascript and Java.\n\nThat concludes my kernel. I hope you find it at least a bit interesting or informative"
    }
  ],
  "metadata": {
    "anaconda-cloud": {},
    "kernelspec": {
      "display_name": "Python 3",
      "language": "python",
      "name": "python3"
    },
    "language_info": {
      "nbconvert_exporter": "python",
      "codemirror_mode": {
        "version": 3,
        "name": "ipython"
      },
      "name": "python",
      "file_extension": ".py",
      "pygments_lexer": "ipython3",
      "version": "3.6.4",
      "mimetype": "text/x-python"
    }
  },
  "nbformat": 4,
  "nbformat_minor": 1
}